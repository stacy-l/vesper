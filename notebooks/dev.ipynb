{
 "cells": [
  {
   "cell_type": "code",
   "execution_count": 1,
   "metadata": {},
   "outputs": [],
   "source": [
    "from pathlib import Path\n",
    "import pysam\n",
    "from vesper.processors.variants import *\n",
    "from vesper.processors.reads import *\n",
    "from vesper.processors.annotations import *\n",
    "from vesper.models.variants import *\n"
   ]
  },
  {
   "cell_type": "code",
   "execution_count": null,
   "metadata": {},
   "outputs": [],
   "source": [
    "vcf_path = Path(\"../tests/files/hg38/894.duplomap.vcf.gz\")\n",
    "bam_path = Path(\"../tests/files/hg38/894.duplomap.bam\")\n",
    "centromere_path = Path(\"../annotations/hg38/GRCH38_centromeres.bed\")\n",
    "repeatmasker_path = Path(\"../annotations/hg38/GRCH38_repeatmasker.bed\")\n",
    "\n",
    "variants = []\n",
    "with ReadProcessor(bam_path) as read_proc:\n",
    "    with VCFProcessor(vcf_path, read_proc) as vcf_proc:\n",
    "        # TODO: uh, maybe lazy loading of reads + annotation, skip variants with excess support reads at locus... uhh... 250k reads is not normal\n",
    "        variants = list(vcf_proc.instantiate_variants(test_mode = True))\n",
    "\n",
    "print(f\"Loaded {len(variants)} variants\")\n"
   ]
  },
  {
   "cell_type": "code",
   "execution_count": null,
   "metadata": {},
   "outputs": [],
   "source": [
    "variants[0]"
   ]
  },
  {
   "cell_type": "code",
   "execution_count": null,
   "metadata": {},
   "outputs": [],
   "source": [
    "with BEDProcessor(repeatmasker_path) as ann_proc:\n",
    "    for variant in variants:\n",
    "        if variant.variant.sv_type == SVType.INS:\n",
    "            variant.add_annotations(ann_proc)"
   ]
  },
  {
   "cell_type": "code",
   "execution_count": null,
   "metadata": {},
   "outputs": [],
   "source": [
    "reads_processed, max_reads_per_variant, max_reads_variant = 0, 0, None\n",
    "for v in variants:\n",
    "    reads_processed += len(v.support_reads) + len(v.nonsupport_reads)\n",
    "    if len(v.support_reads) + len(v.nonsupport_reads) > max_reads_per_variant:\n",
    "        max_reads_per_variant = len(v.support_reads) + len(v.nonsupport_reads)\n",
    "        max_reads_variant = v\n",
    "\n",
    "print(f\"Processed {reads_processed} reads\")\n",
    "print(f\"Max reads per variant: {max_reads_per_variant}\")\n",
    "print(f\"Variant with max reads: {max_reads_variant}\") "
   ]
  },
  {
   "cell_type": "code",
   "execution_count": null,
   "metadata": {},
   "outputs": [],
   "source": [
    "len([v for v in variants if len(v.overlapping_features) > 0])"
   ]
  },
  {
   "cell_type": "code",
   "execution_count": null,
   "metadata": {},
   "outputs": [],
   "source": []
  }
 ],
 "metadata": {
  "kernelspec": {
   "display_name": "venv",
   "language": "python",
   "name": "python3"
  },
  "language_info": {
   "codemirror_mode": {
    "name": "ipython",
    "version": 3
   },
   "file_extension": ".py",
   "mimetype": "text/x-python",
   "name": "python",
   "nbconvert_exporter": "python",
   "pygments_lexer": "ipython3",
   "version": "3.12.8"
  }
 },
 "nbformat": 4,
 "nbformat_minor": 2
}
