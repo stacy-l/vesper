{
 "cells": [
  {
   "cell_type": "code",
   "execution_count": 1,
   "metadata": {},
   "outputs": [],
   "source": [
    "from pathlib import Path\n",
    "import pysam\n",
    "from vesper.processors.variants import *\n",
    "from vesper.processors.reads import *\n",
    "from vesper.processors.annotations import *\n",
    "from vesper.models.variants import *\n",
    "\n",
    "import numpy as np\n",
    "import time"
   ]
  },
  {
   "cell_type": "code",
   "execution_count": 2,
   "metadata": {},
   "outputs": [
    {
     "name": "stdout",
     "output_type": "stream",
     "text": [
      "Loaded 1867 variants\n"
     ]
    }
   ],
   "source": [
    "vcf_path = Path(\"../tests/files/hg38/894.duplomap.vcf.gz\")\n",
    "bam_path = Path(\"../tests/files/hg38/894.duplomap.bam\")\n",
    "centromere_path = Path(\"../annotations/hg38/GRCH38_centromeres.bed\")\n",
    "repeatmasker_path = Path(\"../annotations/hg38/GRCH38_repeatmasker.bed\")\n",
    "\n",
    "variants = []\n",
    "with VCFProcessor(vcf_path) as vcf_proc:\n",
    "    variants = list(vcf_proc.instantiate_variants(test_mode = False))\n",
    "\n",
    "print(f\"Loaded {len(variants)} variants\")"
   ]
  },
  {
   "cell_type": "code",
   "execution_count": 5,
   "metadata": {},
   "outputs": [
    {
     "name": "stdout",
     "output_type": "stream",
     "text": [
      "Thread Pool with 16 workers: Annotated in 2.40 seconds\n",
      "Thread Pool with 24 workers: Annotated in 2.27 seconds\n",
      "Thread Pool with 32 workers: Annotated in 2.30 seconds\n"
     ]
    }
   ],
   "source": [
    "# test varying the number of workers: processing time should decrease as # of workers increases\n",
    "\n",
    "for n_workers in range(16, 33, 8):\n",
    "    start_time = time.time()\n",
    "    with BEDProcessor(repeatmasker_path) as ann_proc:\n",
    "        ann_proc.annotate_variants(\n",
    "            variants,\n",
    "            proximal_span=500,\n",
    "            n_workers=n_workers\n",
    "        )\n",
    "    end_time = time.time()\n",
    "    print(f\"Thread Pool with {n_workers} workers: Annotated in {end_time - start_time:.2f} seconds\")"
   ]
  },
  {
   "cell_type": "code",
   "execution_count": null,
   "metadata": {},
   "outputs": [
    {
     "name": "stdout",
     "output_type": "stream",
     "text": [
      "\n",
      "With 32 workers:\n",
      "\n",
      "Testing proximal span 100bp:\n",
      "Mean annotations per variant: 22.3\n",
      "Median annotations per variant: 16.0\n",
      "Std dev annotations per variant: 19.0\n",
      "Processing time: 2.33 seconds\n",
      "\n",
      "Testing proximal span 200bp:\n",
      "Mean annotations per variant: 23.4\n",
      "Median annotations per variant: 17.0\n",
      "Std dev annotations per variant: 20.0\n",
      "Processing time: 2.29 seconds\n",
      "\n",
      "Testing proximal span 300bp:\n",
      "Mean annotations per variant: 24.9\n",
      "Median annotations per variant: 18.0\n",
      "Std dev annotations per variant: 21.2\n",
      "Processing time: 2.33 seconds\n",
      "\n",
      "Testing proximal span 400bp:\n",
      "Mean annotations per variant: 26.6\n",
      "Median annotations per variant: 19.0\n",
      "Std dev annotations per variant: 22.7\n",
      "Processing time: 2.36 seconds\n",
      "\n",
      "Testing proximal span 500bp:\n",
      "Mean annotations per variant: 28.6\n",
      "Median annotations per variant: 20.0\n",
      "Std dev annotations per variant: 24.3\n",
      "Processing time: 2.28 seconds\n"
     ]
    }
   ],
   "source": [
    "# test varying the span of annotations: processing time should stay about the same\n",
    "# while # of annotations per variant increases\n",
    "\n",
    "with BEDProcessor(repeatmasker_path) as ann_proc:\n",
    "    n_workers = 32\n",
    "    print(f\"\\nWith {n_workers} workers:\")\n",
    "    for span in range(100, 501, 100):\n",
    "        print(f\"\\nTesting proximal span {span}bp:\")\n",
    "\n",
    "        start_time = time.time()\n",
    "        ann_proc.annotate_variants(\n",
    "            variants,\n",
    "            proximal_span=span,\n",
    "            n_workers=n_workers\n",
    "        )\n",
    "        end_time = time.time()\n",
    "        \n",
    "        # Calculate annotation stats\n",
    "        annotations_per_variant = [\n",
    "            len(v.overlapping_features) + len(v.proximal_features) \n",
    "            for v in variants\n",
    "        ]\n",
    "        mean_annotations = np.mean(annotations_per_variant)\n",
    "        median_annotations = np.median(annotations_per_variant)\n",
    "        std_annotations = np.std(annotations_per_variant)\n",
    "        \n",
    "        print(f\"Mean annotations per variant: {mean_annotations:.1f}\")\n",
    "        print(f\"Median annotations per variant: {median_annotations:.1f}\")\n",
    "        print(f\"Std dev annotations per variant: {std_annotations:.1f}\")\n",
    "        print(f\"Processing time: {end_time - start_time:.2f} seconds\")"
   ]
  }
 ],
 "metadata": {
  "kernelspec": {
   "display_name": "venv",
   "language": "python",
   "name": "python3"
  },
  "language_info": {
   "codemirror_mode": {
    "name": "ipython",
    "version": 3
   },
   "file_extension": ".py",
   "mimetype": "text/x-python",
   "name": "python",
   "nbconvert_exporter": "python",
   "pygments_lexer": "ipython3",
   "version": "3.12.8"
  }
 },
 "nbformat": 4,
 "nbformat_minor": 2
}
